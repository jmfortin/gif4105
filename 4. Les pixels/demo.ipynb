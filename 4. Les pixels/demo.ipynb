{
 "cells": [
  {
   "cell_type": "markdown",
   "metadata": {},
   "source": [
    "# 4. Les pixels"
   ]
  },
  {
   "cell_type": "code",
   "execution_count": null,
   "metadata": {},
   "outputs": [],
   "source": [
    "# settings for display\n",
    "from IPython.core.display import display, HTML\n",
    "display(HTML(\"<style>.container { width:100% !important; }</style>\"))\n",
    "\n",
    "# turn off matplotlib figure axes, else we need to call axes('off') everytime\n",
    "import matplotlib as mpl\n",
    "from matplotlib.pyplot import imshow\n",
    "import matplotlib.pyplot as plt\n",
    "plt.set_cmap('gray') \n",
    "mpl.rc('axes.spines',top=False,bottom=False,left=False,right=False)\n",
    "mpl.rc(('xtick','ytick'),color=(1,1,1,0))\n",
    "mpl.rc('font', size=20)\n",
    "\n",
    "# import necessary libs\n",
    "# plugin to read hdr file (this may require internet to download files.)\n",
    "\n",
    "import imageio; imageio.plugins.freeimage.download()\n",
    "from imageio import imread\n",
    "\n",
    "from PIL import Image # another option for image processing\n",
    "import numpy as np\n",
    "\n",
    "import warnings\n",
    "warnings.filterwarnings(\"ignore\")"
   ]
  },
  {
   "cell_type": "markdown",
   "metadata": {},
   "source": [
    "# Image en \"niveaux de gris\""
   ]
  },
  {
   "cell_type": "code",
   "execution_count": null,
   "metadata": {},
   "outputs": [],
   "source": [
    "# imageio can read and write image data for a large variety of formats\n",
    "# most of our demos are using this library\n",
    "from imageio import imread\n",
    "img_gray = imread('composite-gray.jpg')\n",
    "print(type(img_gray), img_gray.shape)"
   ]
  },
  {
   "cell_type": "code",
   "execution_count": null,
   "metadata": {},
   "outputs": [],
   "source": [
    "# look at the value of pixels independently\n",
    "img_gray[0:9,0:9]"
   ]
  },
  {
   "cell_type": "markdown",
   "metadata": {},
   "source": [
    "### autre options pour charger des images"
   ]
  },
  {
   "cell_type": "code",
   "execution_count": null,
   "metadata": {},
   "outputs": [],
   "source": [
    "from PIL import Image\n",
    "img_pil = Image.open(\"composite-gray.jpg\")\n",
    "print(type(img_pil), 'width:', img_pil.height, 'height:', img_pil.width)"
   ]
  },
  {
   "cell_type": "markdown",
   "metadata": {},
   "source": [
    "### convertir un _array_ en une _Image_\n",
    "```python\n",
    "img_array = imageio.imread('composite-gray.jpg')\n",
    "img_pil = Image.fromarray(img_array)\n",
    "```\n",
    "### vice versa\n",
    "```python\n",
    "img_pil = Image.open(\"composite-gray.jpg\")\n",
    "img_array = np.asarray(img_pil)\n",
    "```"
   ]
  },
  {
   "cell_type": "code",
   "execution_count": null,
   "metadata": {},
   "outputs": [],
   "source": [
    "img_arr = np.asarray(img_pil)\n",
    "print('type:', type(img_arr), 'shape:', img_arr.shape)\n",
    "\n",
    "# Quel est le type de données dans ce tableau?\n",
    "print('data type:', img_arr.dtype)\n",
    "print(img_arr)"
   ]
  },
  {
   "cell_type": "code",
   "execution_count": null,
   "metadata": {
    "scrolled": true
   },
   "outputs": [],
   "source": [
    "# resize an image\n",
    "img_gray = imread('composite-gray.jpg')\n",
    "print(img_gray.shape)\n",
    "\n",
    "# scikit-image is a collection of algorithms for image processing. \n",
    "from skimage.transform import resize\n",
    "img_gray = resize(img_gray, [400, 600])\n",
    "print(img_gray.shape)"
   ]
  },
  {
   "cell_type": "markdown",
   "metadata": {},
   "source": [
    "\n",
    "### autre option: utiliser la fonction _resize_ de PIL\n",
    "```python\n",
    "img_pil = Image.fromarray(img_gray).resize([600, 400]) \n",
    "```"
   ]
  },
  {
   "cell_type": "markdown",
   "metadata": {},
   "source": [
    "## Afficher l'image"
   ]
  },
  {
   "cell_type": "code",
   "execution_count": null,
   "metadata": {},
   "outputs": [],
   "source": [
    "# use matplotlib to show image\n",
    "from matplotlib.pyplot import imshow\n",
    "%matplotlib notebook\n",
    "imshow(img_gray);plt.axis('off');"
   ]
  },
  {
   "cell_type": "markdown",
   "metadata": {},
   "source": [
    "### autre option: utiliser la fonction PIL show(), qui ouvrira une nouvelle fenêtre\n",
    "```python\n",
    "img_pil.show()\n",
    "```"
   ]
  },
  {
   "cell_type": "markdown",
   "metadata": {},
   "source": [
    "# Lecture de ce que la camera capture vraiment"
   ]
  },
  {
   "cell_type": "code",
   "execution_count": null,
   "metadata": {},
   "outputs": [],
   "source": [
    "imgRAW = imread('mandi.tif')\n",
    "\n",
    "# let's show the image in a larger figure frame\n",
    "import matplotlib.pyplot as plt\n",
    "fig = plt.figure(figsize=(10, 6));plt.axis('off')\n",
    "plt.imshow(imgRAW);"
   ]
  },
  {
   "cell_type": "markdown",
   "metadata": {},
   "source": [
    "# Image couleur"
   ]
  },
  {
   "cell_type": "code",
   "execution_count": null,
   "metadata": {
    "scrolled": true
   },
   "outputs": [],
   "source": [
    "img = imread('img-couleur.jpg');\n",
    "print('Shape: ', img.shape)"
   ]
  },
  {
   "cell_type": "code",
   "execution_count": null,
   "metadata": {},
   "outputs": [],
   "source": [
    "fig, ax = plt.subplots(1, 3, figsize=(15,5), sharex=True, sharey=True, num='Canaux RGB')\n",
    "plt.set_cmap('gray')  # jet?\n",
    "ax[0].imshow(img[:,:,0]); ax[0].axis('off'); ax[0].set_title('R')\n",
    "ax[1].imshow(img[:,:,1]); ax[1].axis('off'); ax[1].set_title('G')\n",
    "ax[2].imshow(img[:,:,2]); ax[2].axis('off'); ax[2].set_title('B')\n",
    "plt.tight_layout()\n",
    "plt.show()"
   ]
  },
  {
   "cell_type": "code",
   "execution_count": null,
   "metadata": {
    "scrolled": false
   },
   "outputs": [],
   "source": [
    "fig = plt.figure(figsize=(10, 5))\n",
    "plt.imshow(img); plt.axis('off');"
   ]
  },
  {
   "cell_type": "markdown",
   "metadata": {},
   "source": [
    "# Comment visualiser _seulement_ la teinte?"
   ]
  },
  {
   "cell_type": "code",
   "execution_count": null,
   "metadata": {},
   "outputs": [],
   "source": [
    "img = imread('img-couleur.jpg')\n",
    "from skimage.color import rgb2hsv, hsv2rgb\n",
    "imgHsv = rgb2hsv(img)\n",
    "imgHsv[:,:,1] = 1\n",
    "imgHsv[:,:,2] = 1\n",
    "\n",
    "imgModifiee = hsv2rgb(imgHsv);\n",
    "fig, ax = plt.subplots(1, 2, figsize=(10,5), sharex=True, sharey=True, num='HSV 1')\n",
    "ax[0].imshow(img); ax[0].axis('off'); ax[0].set_title('Image originale')\n",
    "ax[1].imshow(imgModifiee); ax[1].axis('off'); ax[1].set_title('Modifiee')\n",
    "plt.tight_layout()\n",
    "plt.show()"
   ]
  },
  {
   "cell_type": "code",
   "execution_count": null,
   "metadata": {
    "scrolled": false
   },
   "outputs": [],
   "source": [
    "imgHsv = rgb2hsv(img)\n",
    "imgHsv[:,:,1] = imgHsv[:,:,1] * 1.5  # 50% de plus de saturation!\n",
    "imgHsv[:,:,1][imgHsv[:,:,1]>1] = 1  # maximum saturation should be less than 1\n",
    "\n",
    "imgModifiee = hsv2rgb(imgHsv)\n",
    "fig, ax = plt.subplots(1, 2, figsize=(10,5), sharex=True, sharey=True, num='HSV 2')\n",
    "ax[0].imshow(img);         ax[0].axis('off'); ax[0].set_title('Image originale')\n",
    "ax[1].imshow(imgModifiee); ax[1].axis('off'); ax[1].set_title('Saturation + 50%')\n",
    "plt.tight_layout()\n",
    "plt.show()"
   ]
  },
  {
   "cell_type": "markdown",
   "metadata": {},
   "source": [
    "# Manipuler la saturation interactivement!"
   ]
  },
  {
   "cell_type": "code",
   "execution_count": null,
   "metadata": {},
   "outputs": [],
   "source": [
    "imgRAW = imread('mandi.tif')\n",
    "from colour_demosaicing import demosaicing_CFA_Bayer_bilinear as demosaic\n",
    "from skimage.transform import resize\n",
    "img = demosaic(imgRAW, 'BGGR')\n",
    "img = resize(img, (400,600))\n",
    "\n",
    "# show image\n",
    "fig, ax = plt.subplots(1, 2, figsize=(10,5), sharex=True, sharey=True, num='Saturation')\n",
    "ax[0].imshow(img); ax[0].axis('off'); ax[0].set_title('Image originale')\n",
    "ax[1].imshow(img); ax[1].axis('off'); ax[1].set_title('Saturation x 1')\n",
    "plt.tight_layout()\n",
    "\n",
    "'''interactive controller'''\n",
    "from matplotlib.widgets import Slider\n",
    "ax_slider = plt.axes([0.25, 0, 0.65, 0.05], facecolor='lightblue')\n",
    "slider = Slider(ax_slider, 'Saturation ratio', 0, 2, valinit=1, valstep=0.05)\n",
    "imgHsv = rgb2hsv(img) # modify this Hsv iamge\n",
    "def update_plot(val):\n",
    "    ax[1].set_title('Saturation x %.2f' % (val))\n",
    "    _imgHsv = imgHsv.copy()\n",
    "    _imgHsv[...,1] = np.minimum(1, imgHsv[...,1] * val)\n",
    "    img_update = hsv2rgb(_imgHsv)\n",
    "    ax[1].imshow(img_update)\n",
    "    fig.canvas.draw_idle()\n",
    "slider.on_changed(update_plot);"
   ]
  },
  {
   "cell_type": "markdown",
   "metadata": {},
   "source": [
    "# Espace de couleur lab"
   ]
  },
  {
   "cell_type": "code",
   "execution_count": null,
   "metadata": {},
   "outputs": [],
   "source": [
    "img = imread('img-couleur.jpg')\n",
    "\n",
    "from skimage.color import rgb2lab, lab2rgb\n",
    "imglab = rgb2lab(img)\n",
    "\n",
    "# visualisons la luminance et chrominance\n",
    "imglab = rgb2lab(img)\n",
    "imgLuminance = imglab[:,:,0]/100\n",
    "imglab[:,:,0] = 65\n",
    "imgChrominance = lab2rgb(imglab)\n",
    "\n",
    "# show image\n",
    "fig, ax = plt.subplots(1, 2, figsize=(10,5), sharex=True, sharey=True, num='Luminance & Chrominance')\n",
    "ax[0].imshow(imgLuminance); ax[0].axis('off'); ax[0].set_title('Luminance')\n",
    "ax[1].imshow(imgChrominance); ax[1].axis('off'); ax[1].set_title('Chrominance')\n",
    "plt.tight_layout()"
   ]
  },
  {
   "cell_type": "markdown",
   "metadata": {},
   "source": [
    "# Plage dynamique"
   ]
  },
  {
   "cell_type": "code",
   "execution_count": null,
   "metadata": {
    "scrolled": false
   },
   "outputs": [],
   "source": [
    "img = imread('memorial.hdr')  # .hdr file contains float values\n",
    "print('dtype:', img.dtype)\n",
    "print('range in [%.2f, %.2f]' % (img.min(), img.max()))\n",
    "\n",
    "# show image\n",
    "fig, ax = plt.subplots(1, 2, figsize=(12,10), sharex=True, sharey=True, num='HDR')\n",
    "ax[0].imshow(img); ax[0].axis('off'); ax[0].set_title('Image originale')  # to disable the plot warning do: imshow(np.minimum(1, img * 1))\n",
    "ax[1].imshow(img * 6); ax[1].axis('off'); ax[1].set_title('Image x 6')\n",
    "plt.tight_layout()"
   ]
  },
  {
   "cell_type": "code",
   "execution_count": null,
   "metadata": {
    "scrolled": false
   },
   "outputs": [],
   "source": [
    "img6 = img * 6\n",
    "\n",
    "%matplotlib notebook\n",
    "mpl.rc('font', size=20)\n",
    "fig, ax = plt.subplots(1, 2, figsize=(12,10), sharex=True, sharey=True, num='Interactive plot')\n",
    "ax[0].imshow(img6); ax[0].axis('off'); ax[0].set_title('Image originale')\n",
    "ax[1].imshow(img6/(1.0+img6)); ax[1].axis('off'); ax[1].set_title('Reinhard')\n",
    "plt.tight_layout()"
   ]
  },
  {
   "cell_type": "markdown",
   "metadata": {},
   "source": [
    "# Égalisation d'histogramme"
   ]
  },
  {
   "cell_type": "code",
   "execution_count": null,
   "metadata": {},
   "outputs": [],
   "source": [
    "# Show axes label from here\n",
    "# show the plot with labels\n",
    "mpl.rc(('xtick','ytick'), color=(0,0,0,1))\n",
    "mpl.rc('axes.spines',top=True,bottom=True,left=True,right=True)"
   ]
  },
  {
   "cell_type": "code",
   "execution_count": null,
   "metadata": {
    "scrolled": false
   },
   "outputs": [],
   "source": [
    "img = imread('image40.jpg')\n",
    "imgHist, _bin_edges = np.histogram(img.flatten(), bins=256, range=(0,255))\n",
    "imgHistCum = np.cumsum(imgHist)\n",
    "\n",
    "fig, ax = plt.subplots(1, 2, figsize=(10,5), num='Plot')\n",
    "\n",
    "ax[0].plot(imgHist); ax[0].grid(); ax[0].set_title('Histogramme')\n",
    "ax[1].plot(imgHistCum); ax[1].grid(); ax[1].set_title('Histogramme cumulatif')\n",
    "\n",
    "plt.tight_layout()"
   ]
  },
  {
   "cell_type": "code",
   "execution_count": null,
   "metadata": {
    "scrolled": false
   },
   "outputs": [],
   "source": [
    "N = img.shape[0] * img.shape[1]\n",
    "imgEq = (imgHistCum[img].astype('float32')*255./float(N)).astype('uint8')\n",
    "\n",
    "# show the plot\n",
    "fig, ax = plt.subplots(2, 2, figsize=(10,5), num='Image & Histogramme')\n",
    "ax[0][0].imshow(img); ax[0][0].set_title('Image'); ax[0][0].axis('off')\n",
    "ax[0][1].hist(img.flatten(), 255)[0]; ax[0][1].grid(); ax[0][1].set_title('Image Histogramme')\n",
    "ax[1][0].imshow(imgEq); ax[1][0].grid(); ax[1][0].set_title('imgEq'); ax[1][0].axis('off')\n",
    "ax[1][1].hist(imgEq.flatten(), 255)[0]; ax[1][1].grid(); ax[1][1].set_title('imgEq Histogramme')\n",
    "plt.set_cmap('gray')\n",
    "plt.tight_layout()"
   ]
  },
  {
   "cell_type": "markdown",
   "metadata": {},
   "source": [
    "# On le fait pour une image couleur?"
   ]
  },
  {
   "cell_type": "code",
   "execution_count": null,
   "metadata": {},
   "outputs": [],
   "source": [
    "imgIn = imread('arbres.jpg').astype('float32') / 255.0  # here we convert uint8 to float"
   ]
  },
  {
   "cell_type": "code",
   "execution_count": null,
   "metadata": {},
   "outputs": [],
   "source": [
    "# Enhance contrast using histogram equalization\n",
    "def histeq(img):\n",
    "    imgHist = np.histogram(img.flatten(), bins=256, range=(0,1))[0]\n",
    "    imgHistCum = np.cumsum(imgHist)\n",
    "    N = img.shape[0] * img.shape[1]\n",
    "    imgEq = imgHistCum[(img*255).astype(int)]/N\n",
    "    return imgEq"
   ]
  },
  {
   "cell_type": "code",
   "execution_count": null,
   "metadata": {},
   "outputs": [],
   "source": [
    "# option 1: chaque canal independamment\n",
    "imgEq1 = np.zeros(imgIn.shape)\n",
    "for i_c in range(3):\n",
    "    imgEq1[:,:,i_c] = histeq(imgIn[:,:,i_c])"
   ]
  },
  {
   "cell_type": "code",
   "execution_count": null,
   "metadata": {},
   "outputs": [],
   "source": [
    "# option 2: equilibrer le canal 'L' seulement \n",
    "from skimage.color import rgb2lab, lab2rgb\n",
    "\n",
    "imgLab = rgb2lab(imgIn);\n",
    "L = imgLab[:,:,0]\n",
    "# L est entre 0 et 100. mettre entre 0 et 255 pour histeq\n",
    "L = L/100.0\n",
    "\n",
    "L = histeq(L)\n",
    "L = L * 100.0\n",
    "imgLab[:,:,0] = L\n",
    "imgEq2 = lab2rgb(imgLab);"
   ]
  },
  {
   "cell_type": "code",
   "execution_count": null,
   "metadata": {},
   "outputs": [],
   "source": [
    "# show the images\n",
    "alpha = .5\n",
    "fig, ax = plt.subplots(1, 3, figsize=(15,5), sharex=True, sharey=True)\n",
    "ax[0].imshow(imgIn); ax[0].axis('off'); ax[0].set_title('Image originale')\n",
    "ax[1].imshow(imgEq1*alpha + (1-alpha)*imgIn); ax[1].axis('off'); ax[1].set_title('Canaux indépendants')\n",
    "ax[2].imshow(imgEq2*alpha + (1-alpha)*imgIn); ax[2].axis('off'); ax[2].set_title('L seulement');"
   ]
  },
  {
   "cell_type": "code",
   "execution_count": null,
   "metadata": {},
   "outputs": [],
   "source": []
  }
 ],
 "metadata": {
  "kernelspec": {
   "display_name": "Python 3",
   "language": "python",
   "name": "python3"
  },
  "language_info": {
   "codemirror_mode": {
    "name": "ipython",
    "version": 3
   },
   "file_extension": ".py",
   "mimetype": "text/x-python",
   "name": "python",
   "nbconvert_exporter": "python",
   "pygments_lexer": "ipython3",
   "version": "3.7.4"
  }
 },
 "nbformat": 4,
 "nbformat_minor": 2
}
