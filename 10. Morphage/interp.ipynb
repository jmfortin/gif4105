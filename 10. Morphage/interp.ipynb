{
 "cells": [
  {
   "cell_type": "markdown",
   "metadata": {},
   "source": [
    "# Affichons une transition progressive allant du matin jusqu'au soir à l'aide d'une image de webcam du campus. "
   ]
  },
  {
   "cell_type": "code",
   "execution_count": null,
   "metadata": {},
   "outputs": [],
   "source": [
    "# settings for display\n",
    "from IPython.core.display import display, HTML\n",
    "display(HTML(\"<style>.container { width:100% !important; }</style>\"))\n",
    "\n",
    "# turn off matplotlib figure axes, else we need to call axes('off') everytime\n",
    "import matplotlib as mpl\n",
    "import matplotlib.pyplot as plt\n",
    "plt.set_cmap('gray') \n",
    "mpl.rc('axes.spines',top=False,bottom=False,left=False,right=False)\n",
    "mpl.rc(('xtick','ytick'),color=(1,1,1,0))\n",
    "mpl.rc('font', size=20)\n",
    "\n",
    "import warnings\n",
    "warnings.filterwarnings(\"ignore\")\n",
    "\n",
    "# import necessarry libs\n",
    "from imageio import imread\n",
    "import numpy as np\n",
    "import time"
   ]
  },
  {
   "cell_type": "code",
   "execution_count": null,
   "metadata": {},
   "outputs": [],
   "source": [
    "# chargeons les images\n",
    "img1 = imread('am.png')/255.0\n",
    "img2 = imread('pm.png')/255.0\n",
    "\n",
    "# facteur de combinaison linéaire des images\n",
    "t = np.linspace(0, 1, 50)"
   ]
  },
  {
   "cell_type": "code",
   "execution_count": null,
   "metadata": {
    "scrolled": false
   },
   "outputs": [],
   "source": [
    "%matplotlib notebook\n",
    "fig, ax = plt.subplots(2, 2, figsize=(10,10), sharex=True, sharey=True,num='figure')\n",
    "ax[0][0].imshow(img1);\n",
    "ax[0][1].imshow(img2);\n",
    "ax = plt.subplot(2, 1, 2)\n",
    "img_ax = ax.imshow(img1);\n",
    "\n",
    "for i_t in range(len(t)):\n",
    "    # calculer la combinaison linéaire\n",
    "    img = img2*t[i_t] + img1*(1-t[i_t])\n",
    "    \n",
    "    # afficher le résultat\n",
    "    # petit truc: pas besoin de faire «imshow» à chaque itération,\n",
    "    # il est plus rapide de remplacer l'image directement dans la figure.\n",
    "    # ax.imshow(img) this is slow\n",
    "    img_ax.set_data(img)\n",
    "    ax.set_title('%d'%(i_t+1))\n",
    "    fig.canvas.draw()\n",
    "    time.sleep(0.05)"
   ]
  },
  {
   "cell_type": "code",
   "execution_count": null,
   "metadata": {},
   "outputs": [],
   "source": []
  }
 ],
 "metadata": {
  "kernelspec": {
   "display_name": "Python 3",
   "language": "python",
   "name": "python3"
  },
  "language_info": {
   "codemirror_mode": {
    "name": "ipython",
    "version": 3
   },
   "file_extension": ".py",
   "mimetype": "text/x-python",
   "name": "python",
   "nbconvert_exporter": "python",
   "pygments_lexer": "ipython3",
   "version": "3.5.0"
  }
 },
 "nbformat": 4,
 "nbformat_minor": 2
}
