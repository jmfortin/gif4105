{
 "cells": [
  {
   "cell_type": "markdown",
   "metadata": {},
   "source": [
    "### Dans cette démonstration, nous allons démontrer que l'ordre d'application des transformations est important! "
   ]
  },
  {
   "cell_type": "code",
   "execution_count": null,
   "metadata": {},
   "outputs": [],
   "source": [
    "# import necessarry libs\n",
    "from math import sin, cos\n",
    "import numpy as np"
   ]
  },
  {
   "cell_type": "code",
   "execution_count": null,
   "metadata": {},
   "outputs": [],
   "source": [
    "# Déclarer des valeurs aléatoires\n",
    "tx, ty = np.random.random([2,1])\n",
    "theta = np.random.uniform(low=-3.14, high=3.14)\n",
    "sx, sy = np.random.random([2,1])\n",
    "\n",
    "# matrice de translation\n",
    "A1 = np.asarray([[1, 0, tx], [0, 1, ty], [0, 0, 1]])\n",
    "\n",
    "# matrice de rotation\n",
    "A2 = np.asarray([[cos(theta), -sin(theta), 0], [sin(theta), cos(theta), 0], [0, 0, 1]])\n",
    "\n",
    "# matrice d'échelle\n",
    "A3 = np.asarray([[sx, 0, 0], [0, sy, 0], [0, 0, 1]]);"
   ]
  },
  {
   "cell_type": "code",
   "execution_count": null,
   "metadata": {},
   "outputs": [],
   "source": [
    "# essayons A1*A2*A3\n",
    "T1 = A2*A1*A2*A3\n",
    "\n",
    "# maintenant, changeons l'ordre des transformations\n",
    "T2 = A3*A2*A1*A2"
   ]
  },
  {
   "cell_type": "code",
   "execution_count": null,
   "metadata": {},
   "outputs": [],
   "source": [
    "# pour bien être certains que ça ne soit _pas_ équivalent:\n",
    "print(T1 == T2)\n",
    "print(np.array_equal(T1, T2))"
   ]
  },
  {
   "cell_type": "code",
   "execution_count": null,
   "metadata": {},
   "outputs": [],
   "source": [
    "print(T1)"
   ]
  },
  {
   "cell_type": "code",
   "execution_count": null,
   "metadata": {},
   "outputs": [],
   "source": [
    "print(T2)"
   ]
  }
 ],
 "metadata": {
  "kernelspec": {
   "display_name": "Python 3",
   "language": "python",
   "name": "python3"
  },
  "language_info": {
   "codemirror_mode": {
    "name": "ipython",
    "version": 3
   },
   "file_extension": ".py",
   "mimetype": "text/x-python",
   "name": "python",
   "nbconvert_exporter": "python",
   "pygments_lexer": "ipython3",
   "version": "3.5.0"
  }
 },
 "nbformat": 4,
 "nbformat_minor": 2
}
